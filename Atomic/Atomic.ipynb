{
 "cells": [
  {
   "cell_type": "markdown",
   "metadata": {},
   "source": [
    "BOT SAVES QUEEN"
   ]
  },
  {
   "cell_type": "code",
   "execution_count": 5,
   "metadata": {},
   "outputs": [
    {
     "name": "stdout",
     "output_type": "stream",
     "text": [
      "['---', 'm--', '--p']\n",
      "(2, 2)\n",
      "(1, 0)\n",
      "1\n",
      "2\n",
      "DOWN\n",
      "RIGHT\n",
      "RIGHT\n",
      "\n"
     ]
    },
    {
     "data": {
      "text/plain": [
       "(None, 0.6)"
      ]
     },
     "execution_count": 5,
     "metadata": {},
     "output_type": "execute_result"
    }
   ],
   "source": [
    "def displayPathtoPrincess(n,grid):\n",
    "    for id, row in enumerate(grid):\n",
    "        if 'p' in row:\n",
    "            princess = (id, row.index('p'))\n",
    "        if 'm' in row:\n",
    "            me = (id, row.index('m'))\n",
    "    \n",
    "    print(grid)\n",
    "    print(princess)\n",
    "    print(me)\n",
    "\n",
    "    dcols = princess[1] - me[1]\n",
    "    drows = princess[0] - me[0]\n",
    "    x = abs(drows)\n",
    "    y = abs(dcols)\n",
    "\n",
    "    print(drows)\n",
    "    print(dcols)\n",
    "    \n",
    "    return print(''.join([\n",
    "        'UP\\n' * abs(drows) if drows < 0 else 'DOWN\\n' * drows,\n",
    "        'LEFT\\n' * abs(dcols) if dcols < 0 else 'RIGHT\\n' * dcols]))\n",
    "    \n",
    "#print all the moves here\n",
    "\n",
    "m = int(input())\n",
    "grid = [] \n",
    "for i in range(0, m): \n",
    "    grid.append(input().strip())\n",
    "\n",
    "displayPathtoPrincess(m,grid)"
   ]
  },
  {
   "cell_type": "markdown",
   "metadata": {},
   "source": [
    "BOT SAVES QUEEN 2"
   ]
  },
  {
   "cell_type": "code",
   "execution_count": 15,
   "metadata": {},
   "outputs": [
    {
     "name": "stdout",
     "output_type": "stream",
     "text": [
      "\n"
     ]
    }
   ],
   "source": [
    "def nextMove(n,c,r,grid):\n",
    "    \n",
    "    for idx, row in enumerate(grid):\n",
    "        if 'p' in row:\n",
    "            princess = (idx, row.index('p'))\n",
    "\n",
    "    if princess[0] - r < 0:\n",
    "        move = \"UP\"\n",
    "    if princess[0] - r > 0:\n",
    "        move = \"DOWN\"\n",
    "    if princess[1] - c < 0:\n",
    "        move = \"LEFT\"\n",
    "    if princess[1] - c > 0:\n",
    "        move = \"RIGHT\"\n",
    "\n",
    "    return move\n",
    "\n",
    "n = int(input())\n",
    "r,c = [int(i) for i in input().strip().split()]\n",
    "grid = []\n",
    "for i in range(0, n):\n",
    "    grid.append(input())\n",
    "\n",
    "print(nextMove(n,c,r,grid))"
   ]
  },
  {
   "cell_type": "markdown",
   "metadata": {},
   "source": [
    "BOT CLEAN"
   ]
  },
  {
   "cell_type": "code",
   "execution_count": 2,
   "metadata": {},
   "outputs": [
    {
     "name": "stdout",
     "output_type": "stream",
     "text": [
      "DOWN\n"
     ]
    }
   ],
   "source": [
    "def next_move(posr, posc, board):\n",
    "    dirty_cells = [(i, j) for i in enumerate(board) for j in range(5) if board[i][j] == 'd']\n",
    "\n",
    "    if not dirty_cells:\n",
    "        return\n",
    "\n",
    "    closest_dirty_cell = min(dirty_cells, key=lambda x: abs(posr - x[0]) + abs(posc - x[1]))\n",
    "\n",
    "    if posr < closest_dirty_cell[0]:\n",
    "        print(\"DOWN\")\n",
    "    elif posr > closest_dirty_cell[0]:\n",
    "        print(\"UP\")\n",
    "    elif posc < closest_dirty_cell[1]:\n",
    "        print(\"RIGHT\")\n",
    "    elif posc > closest_dirty_cell[1]:\n",
    "        print(\"LEFT\")\n",
    "    else:\n",
    "        print(\"CLEAN\")\n",
    "\n",
    "if __name__ == \"__main__\":\n",
    "    pos = [int(i) for i in input().strip().split()]\n",
    "    board = [[j for j in input().strip()] for i in range(5)]\n",
    "    next_move(pos[0], pos[1], board)\n"
   ]
  },
  {
   "cell_type": "code",
   "execution_count": null,
   "metadata": {},
   "outputs": [],
   "source": [
    "def next_move(posr, posc, board):\n",
    "    dirty_cells = ((i, j) for i, row in enumerate(board) if 'd' in row for j, c in enumerate(row) if c == 'd')\n",
    "    i, j = min(dirty_cells, key=lambda x: abs(posr - x[0]) + abs(posc - x[1]))\n",
    "    print(\"LEFT\" if j < posc else \"RIGHT\" if j > posc else \"UP\" if i < posr else \"DOWN\" if i > posr else \"CLEAN\")\n",
    "\n",
    "if __name__ == \"__main__\":\n",
    "    pos = [int(i) for i in input().strip().split()]\n",
    "    board = [[j for j in input().strip()] for i in range(5)]\n",
    "    next_move(pos[0], pos[1], board)\n"
   ]
  },
  {
   "cell_type": "markdown",
   "metadata": {},
   "source": [
    "BOT CLEAN STOCHASTIC"
   ]
  },
  {
   "cell_type": "markdown",
   "metadata": {},
   "source": []
  },
  {
   "cell_type": "markdown",
   "metadata": {},
   "source": [
    "BOT CLEAN LARGE"
   ]
  },
  {
   "cell_type": "code",
   "execution_count": null,
   "metadata": {},
   "outputs": [],
   "source": [
    "def next_move(posx, posy, dimx, dimy, board):\n",
    "    dirty_cells = [(i, j) for i in range(dimx) for j in range(dimy) if board[i][j] == 'd']\n",
    "\n",
    "    if not dirty_cells:\n",
    "        print(\"No more dirty cells.\")\n",
    "        return\n",
    "\n",
    "    next_dirty = min(dirty_cells, key=lambda x: abs(posx - x[0]) + abs(posy - x[1]))\n",
    "\n",
    "    if posx < next_dirty[0]:\n",
    "        print(\"DOWN\")\n",
    "    elif posx > next_dirty[0]:\n",
    "        print(\"UP\")\n",
    "    elif posy < next_dirty[1]:\n",
    "        print(\"RIGHT\")\n",
    "    elif posy > next_dirty[1]:\n",
    "        print(\"LEFT\")\n",
    "    else:\n",
    "        print(\"CLEAN\")\n",
    "\n",
    "# Sample Input\n",
    "initial_location = list(map(int, input().split()))\n",
    "height, width = map(int, input().split())\n",
    "matrix = [input() for _ in range(height)]\n",
    "\n",
    "# Calling the function with sample input\n",
    "next_move(initial_location[0], initial_location[1], height, width, matrix)"
   ]
  },
  {
   "cell_type": "code",
   "execution_count": null,
   "metadata": {},
   "outputs": [],
   "source": [
    "def next_move(posx, posy, dimx, dimy, board):\n",
    "    dirty_cells = [(i, j) for i in range(dimx) for j in range(dimy) if board[i][j] == 'd']\n",
    "\n",
    "    if not dirty_cells:\n",
    "        print(\"No more dirty cells.\")\n",
    "        return\n",
    "\n",
    "    i,j = min(dirty_cells, key=lambda x: abs(posx - x[0]) + abs(posy - x[1]))\n",
    "    \n",
    "    print(\"LEFT\" if j < posy else \"RIGHT\" if j > posy else \"UP\" if i < posx else \"DOWN\" if i > posx else \"CLEAN\")\n",
    "\n",
    "\n",
    "if __name__ == \"__main__\":\n",
    "    pos = [int(i) for i in input().strip().split()]\n",
    "    dim = [int(i) for i in input().strip().split()]\n",
    "    board = [[j for j in input().strip()] for i in range(dim[0])]\n",
    "    next_move(pos[0], pos[1], dim[0], dim[1], board)"
   ]
  },
  {
   "cell_type": "markdown",
   "metadata": {},
   "source": [
    "BOT CLEAN PARTIALLY OBSV"
   ]
  },
  {
   "cell_type": "code",
   "execution_count": null,
   "metadata": {},
   "outputs": [],
   "source": [
    "def next_move(posx, posy, board):\n",
    "    visible_cells = [\n",
    "        (i, j) for i in range(posx-1, posx+2) for j in range(posy-1, posy+2)\n",
    "        if 0 <= i < 5 and 0 <= j < 5 and board[i][j] != 'o'\n",
    "    ]\n",
    "\n",
    "    dirty_cells = [(i, j) for i, j in visible_cells if board[i][j] == 'd']\n",
    "\n",
    "    if not dirty_cells:\n",
    "        print(\"RIGHT\" if posy < len(board)-len(board)//2 else \"DOWN\" if posx < len(board)-len(board)//2 and \n",
    "              posy == len(board)-1 else \"LEFT\" if posy > (len(board)-len(board)//2) else \"UP\" if posx > \n",
    "              len(board)-len(board)//2 and posy == 0 else \"\")\n",
    "    else :\n",
    "        i, j = min(dirty_cells, key=lambda x: abs(posx - x[0]) + abs(posy - x[1]))\n",
    "        print(\"LEFT\" if j < posy else \"RIGHT\" if j > posy else \"UP\" if i < posx else \"DOWN\" if i > posx else \"CLEAN\")\n",
    "\n",
    "if __name__ == \"__main__\": \n",
    "    pos = [int(i) for i in input().strip().split()] \n",
    "    board = [[j for j in input().strip()] for i in range(5)]  \n",
    "    next_move(pos[0], pos[1], board)\n"
   ]
  },
  {
   "cell_type": "markdown",
   "metadata": {},
   "source": [
    "MAZE ESCAPE"
   ]
  },
  {
   "cell_type": "code",
   "execution_count": null,
   "metadata": {},
   "outputs": [],
   "source": [
    "def next_move(player, board):\n",
    "    #print(\"Player: {}\".format(player))\n",
    "    move = ''\n",
    "    # Start\n",
    "    for i in range(len(board)):\n",
    "        for j in range(len(board[i])):\n",
    "            if i == 1  and j == 0 and board[i][j] == 'e':\n",
    "                move = 'LEFT'\n",
    "            else :  \n",
    "                if i == 0 and j == 1 and board[i][j] == '-':\n",
    "                    move = 'UP'\n",
    "                if i == 0 and j == 1 and board[i][j] == '#':\n",
    "                    move = 'RIGHT'\n",
    "    \n",
    "    print(move)\n",
    "\n",
    "# Start application\n",
    "if __name__ == \"__main__\":\n",
    "    # Set data\n",
    "    player = int(input())\n",
    "    board = [[j for j in input().strip()] for i in range(3)]  \n",
    "    next_move(player, board)"
   ]
  },
  {
   "cell_type": "code",
   "execution_count": null,
   "metadata": {},
   "outputs": [],
   "source": [
    "def next_move(player, board):\n",
    "    #print(\"Player: {}\".format(player))\n",
    "    move = ''\n",
    "    # Start\n",
    "    if board[1][0] == 'e':\n",
    "        move = 'LEFT'\n",
    "    else :  \n",
    "        if board[0][1] == '-':\n",
    "            move = 'UP'\n",
    "        if board[0][1] == '#' and board[1][2] == \"#\":\n",
    "            move = 'LEFT'\n",
    "        elif board[0][1] == \"#\" :\n",
    "            move = 'RIGHT'\n",
    " \n",
    "            \n",
    "    \n",
    "    print(move)\n",
    "\n",
    "# Start application\n",
    "if __name__ == \"__main__\":\n",
    "    # Set data\n",
    "    player = int(input())\n",
    "    board = [[j for j in input().strip()] for i in range(3)]  \n",
    "    next_move(player, board)"
   ]
  },
  {
   "cell_type": "markdown",
   "metadata": {},
   "source": [
    "Click-o-Mania"
   ]
  },
  {
   "cell_type": "code",
   "execution_count": null,
   "metadata": {},
   "outputs": [],
   "source": [
    "def nextMove(x, y, k, grid):\n",
    "    def dfs(row, col, color, visited, component):\n",
    "        if (\n",
    "            0 <= row < x\n",
    "            and 0 <= col < y\n",
    "            and grid[row][col] == color\n",
    "            and not visited[row][col]\n",
    "        ):\n",
    "            visited[row][col] = True\n",
    "            component.append((row, col))\n",
    "\n",
    "            # Check in all four directions\n",
    "            dfs(row + 1, col, color, visited, component)\n",
    "            dfs(row - 1, col, color, visited, component)\n",
    "            dfs(row, col + 1, color, visited, component)\n",
    "            dfs(row, col - 1, color, visited, component)\n",
    "\n",
    "    coordinates = []\n",
    "\n",
    "    for i in range(x):\n",
    "        for j in range(y):\n",
    "            if grid[i][j] != '-':\n",
    "                coordinates.append((i, j))\n",
    "\n",
    "    if not coordinates:\n",
    "        return None\n",
    "\n",
    "    visited = [[False] * y for _ in range(x)]\n",
    "    all_components = []\n",
    "\n",
    "    for coord in coordinates:\n",
    "        if not visited[coord[0]][coord[1]]:\n",
    "            component = []\n",
    "            dfs(coord[0], coord[1], grid[coord[0]][coord[1]], visited, component)\n",
    "            all_components.append(component)\n",
    "\n",
    "    # Sort components by size (ascending)\n",
    "    all_components.sort(key=len)\n",
    "\n",
    "    # Select the first block of the smallest component with at least 2 boxes\n",
    "    for component in all_components:\n",
    "        if len(component) >= 2:\n",
    "            return component[0]\n",
    "\n",
    "    return None\n",
    "\n",
    "# Sample Input\n",
    "x, y, k = map(int, input().split())\n",
    "grid = [input().strip() for _ in range(x)]\n",
    "\n",
    "# Get the next move\n",
    "result = nextMove(x, y, k, grid)\n",
    "\n",
    "# Output the result\n",
    "if result:\n",
    "    print(result[0], result[1])\n",
    "else:\n",
    "    print(\"No move available\")\n"
   ]
  },
  {
   "cell_type": "markdown",
   "metadata": {},
   "source": [
    "Battery Life"
   ]
  },
  {
   "cell_type": "code",
   "execution_count": 31,
   "metadata": {},
   "outputs": [
    {
     "name": "stdout",
     "output_type": "stream",
     "text": [
      "8.0\n"
     ]
    }
   ],
   "source": [
    "import numpy as np\n",
    "from sklearn.linear_model import LinearRegression\n",
    "\n",
    "# Read training data from file\n",
    "with open(\"batterylife.txt\", \"r\") as file:\n",
    "    lines = file.readlines()\n",
    "\n",
    "# Parse training data and filter out data points where battery life is 8\n",
    "data = [list(map(float, line.strip().split(','))) for line in lines if float(line.strip().split(',')[1]) != 8]\n",
    "charging_times = np.array([item[0] for item in data]).reshape(-1, 1)\n",
    "battery_life = np.array([item[1] for item in data])\n",
    "\n",
    "# Train the linear regression model\n",
    "model = LinearRegression()\n",
    "model.fit(charging_times, battery_life)\n",
    "\n",
    "# Function to predict battery life based on charging time\n",
    "def predict_battery_life(charging_time):\n",
    "    return model.predict(np.array([[charging_time]]))[0]\n",
    "\n",
    "if __name__ == '__main__':\n",
    "    timeCharged = float(input().strip())\n",
    "\n",
    "    # Predict battery life using the trained model\n",
    "    predicted_life = predict_battery_life(timeCharged)\n",
    "\n",
    "    # Output the result rounded to 2 decimal places\n",
    "    # max battery life == 8.\n",
    "    if predicted_life > 8.0:\n",
    "        print(8.0)\n",
    "    else :\n",
    "        print(f\"{predicted_life:.2f}\")\n"
   ]
  },
  {
   "cell_type": "markdown",
   "metadata": {},
   "source": [
    "LIGHTS OUT"
   ]
  },
  {
   "cell_type": "code",
   "execution_count": null,
   "metadata": {},
   "outputs": [],
   "source": [
    "def is_valid_move(grid, r, c):\n",
    "    return 0 <= r < 8 and 0 <= c < 8 and grid[r][c] == 1\n",
    "\n",
    "def flip_cells(grid, r, c):\n",
    "    grid[r][c] = 1 - grid[r][c]  # flip the current cell\n",
    "    if is_valid_move(grid, r, c + 1):\n",
    "        grid[r][c + 1] = 1 - grid[r][c + 1]  # flip the cell to the right\n",
    "    if is_valid_move(grid, r + 1, c):\n",
    "        grid[r + 1][c] = 1 - grid[r + 1][c]  # flip the cell below\n",
    "\n",
    "def print_grid(grid):\n",
    "    for row in grid:\n",
    "        print(\"\".join(map(str, row)))\n",
    "\n",
    "def play_game():\n",
    "    player = int(input())\n",
    "    grid = [list(map(int, input().strip())) for _ in range(8)]\n",
    "\n",
    "    for _ in range(100):  # maximum 100 moves\n",
    "        for i in range(8):\n",
    "            for j in range(8):\n",
    "                if grid[i][j] == player:\n",
    "                    flip_cells(grid, i, j)\n",
    "                    print(i, j)\n",
    "                    print_grid(grid)\n",
    "                    return\n",
    "\n",
    "if __name__ == \"__main__\":\n",
    "    play_game()\n"
   ]
  },
  {
   "cell_type": "markdown",
   "metadata": {},
   "source": [
    "Stock Prediction"
   ]
  },
  {
   "cell_type": "code",
   "execution_count": null,
   "metadata": {},
   "outputs": [],
   "source": [
    "import numpy as np\n",
    "import requests\n",
    "\n",
    "def fetch_data(url):\n",
    "    response = requests.get(url)\n",
    "    lines = response.text.strip().split('\\n')\n",
    "    return lines\n",
    "\n",
    "def printTransactions(m, k, d, name, owned, prices):\n",
    "    for i in range(k):\n",
    "        stock_name = name[i]\n",
    "        stock_owned = owned[i]\n",
    "        stock_prices = prices[i]\n",
    "\n",
    "        current_price = stock_prices[-1]\n",
    "        avg_price = np.mean(stock_prices[:-1])\n",
    "\n",
    "        if d > 0:\n",
    "            if stock_owned > 0 and current_price > avg_price:\n",
    "                # If you own stocks and the current price is higher than the average, sell some\n",
    "                sell_amount = min(stock_owned, int(m / current_price))\n",
    "                print(f\"1\\n{stock_name} SELL {sell_amount}\")\n",
    "                m += sell_amount * current_price  # Add money from selling to the available money\n",
    "            elif stock_owned == 0 and current_price < avg_price:\n",
    "                # If you don't own stocks and the current price is lower than the average, buy some\n",
    "                buy_amount = min(int(m / current_price), int(m / avg_price))\n",
    "                print(f\"1\\n{stock_name} BUY {buy_amount}\")\n",
    "                m -= buy_amount * current_price  # Subtract money spent on buying\n",
    "        else:\n",
    "            # On the last day, sell any remaining stocks\n",
    "            if stock_owned > 0:\n",
    "                print(f\"1\\n{stock_name} SELL {stock_owned}\")\n",
    "\n",
    "if __name__ == \"__main__\":\n",
    "    # Load data from the provided link\n",
    "    url = \"http://s3.amazonaws.com/hr-testcases-us-east-1/329/assets/bigger_data_set.txt\"\n",
    "    data_lines = fetch_data(url)\n",
    "\n",
    "    # Parse input data\n",
    "    m, k, d = map(float, data_lines[0].strip().split()[:3])  # Change int to float\n",
    "    name, owned, prices = [], [], []\n",
    "    for i in range(1, len(data_lines), k + 1):\n",
    "        stock_data = data_lines[i:i+k]\n",
    "        stock_name, stock_owned, *stock_prices = stock_data\n",
    "        try:\n",
    "            owned.append(int(stock_owned.split()[1]))  # Extract the numeric part from 'owned'\n",
    "        except ValueError:\n",
    "            owned.append(0)  # Handle non-integer values gracefully\n",
    "        prices.append([float(price) if price.replace('.', '', 1).isdigit() else 0.0 for price in stock_prices])\n",
    "\n",
    "    # Execute the trading strategy\n",
    "    printTransactions(m, k, d, name, owned, prices)\n"
   ]
  },
  {
   "cell_type": "markdown",
   "metadata": {},
   "source": [
    "BASIC STATISTIC WARMUP"
   ]
  },
  {
   "cell_type": "code",
   "execution_count": 12,
   "metadata": {},
   "outputs": [
    {
     "name": "stdout",
     "output_type": "stream",
     "text": [
      "43900.6\n",
      "44627.5\n",
      "4978\n",
      "30466.9\n",
      "25017.0 62784.2\n"
     ]
    }
   ],
   "source": [
    "# Enter your code here. Read input from STDIN. Print output to STDOUT\n",
    "\n",
    "from statistics import mean, median\n",
    "from math import sqrt\n",
    "\n",
    "def custom_mode(numbers):\n",
    "    # Custom mode function to handle multiple modes\n",
    "    frequencies = {}\n",
    "    for num in numbers:\n",
    "        frequencies[num] = frequencies.get(num, 0) + 1\n",
    "\n",
    "    max_frequency = max(frequencies.values())\n",
    "    mode_values = [key for key, value in frequencies.items() if value == max_frequency]\n",
    "\n",
    "    return mode_values\n",
    "\n",
    "def calculate_confidence_interval(mean, std_dev, n):\n",
    "    z_score = 1.96  # Assuming normal distribution\n",
    "    margin_of_error = z_score * (std_dev / sqrt(n))\n",
    "    lower_boundary = mean - margin_of_error\n",
    "    upper_boundary = mean + margin_of_error\n",
    "    return lower_boundary, upper_boundary\n",
    "\n",
    "def main():\n",
    "    # Input\n",
    "    N = int(input())\n",
    "    numbers = list(map(int, input().split()))\n",
    "\n",
    "    # Mean\n",
    "    mean_value = mean(numbers)\n",
    "    print(f\"{mean_value:.1f}\")\n",
    "\n",
    "    # Median\n",
    "    median_value = median(numbers)\n",
    "    print(f\"{median_value:.1f}\")\n",
    "\n",
    "    # Mode\n",
    "    mode_values = custom_mode(numbers)\n",
    "    mode_values = sorted(mode_values)\n",
    "    print(mode_values[0])\n",
    "\n",
    "    # Standard Deviation\n",
    "    std_dev = sqrt(sum((x - mean_value) ** 2 for x in numbers) / N)\n",
    "    print(f\"{std_dev:.1f}\")\n",
    "\n",
    "    # Confidence Interval\n",
    "    lower_boundary, upper_boundary = calculate_confidence_interval(mean_value, std_dev, N)\n",
    "    print(f\"{lower_boundary:.1f} {upper_boundary:.1f}\")\n",
    "\n",
    "if __name__ == \"__main__\":\n",
    "    main()\n",
    "\n"
   ]
  },
  {
   "cell_type": "markdown",
   "metadata": {},
   "source": [
    "Image Segmentation 4-connectivity"
   ]
  },
  {
   "cell_type": "code",
   "execution_count": null,
   "metadata": {},
   "outputs": [],
   "source": [
    "def count_objects(image):\n",
    "    rows, cols = len(image), len(image[0])\n",
    "    visited = [[False] * cols for _ in range(rows)]\n",
    "\n",
    "    def is_valid(x, y):\n",
    "        return 0 <= x < rows and 0 <= y < cols\n",
    "\n",
    "    def dfs(x, y):\n",
    "        if not is_valid(x, y) or visited[x][y] or image[x][y] == '0':\n",
    "            return\n",
    "        visited[x][y] = True\n",
    "        directions = [(1, 0), (-1, 0), (0, 1), (0, -1)]\n",
    "        for dx, dy in directions:\n",
    "            nx, ny = x + dx, y + dy\n",
    "            dfs(nx, ny)\n",
    "            print(x,y)\n",
    "\n",
    "    object_count = 0\n",
    "    for i in range(rows):\n",
    "        for j in range(cols):\n",
    "            if not visited[i][j] and image[i][j] == '1':\n",
    "                print(f\"OBJEK {object_count+1}\")\n",
    "                dfs(i, j)\n",
    "                object_count += 1\n",
    "\n",
    "    return object_count\n",
    "\n",
    "# Input binary image\n",
    "binary_image = [\n",
    "    '000110001010',\n",
    "    '111011110001',\n",
    "    '111010010010',\n",
    "    '100000000100'\n",
    "]\n",
    "\n",
    "# Count 4-connected objects\n",
    "result = count_objects(binary_image)\n",
    "print(result)\n"
   ]
  },
  {
   "cell_type": "markdown",
   "metadata": {},
   "source": [
    "8-connectivity"
   ]
  },
  {
   "cell_type": "code",
   "execution_count": 17,
   "metadata": {},
   "outputs": [
    {
     "name": "stdout",
     "output_type": "stream",
     "text": [
      "2\n"
     ]
    }
   ],
   "source": [
    "# Enter your code here. Read input from STDIN. Print output to STDOUT\n",
    "\n",
    "def count_objects(image):\n",
    "    rows, cols = len(image), len(image[0])\n",
    "    visited = [[False] * cols for _ in range(rows)]\n",
    "    \n",
    "    def is_valid(x, y):\n",
    "        return 0 <= x < rows and 0 <= y < cols\n",
    "\n",
    "    def dfs(x, y):\n",
    "        if not is_valid(x, y) or visited[x][y] or image[x][y] == '0':\n",
    "            return\n",
    "        visited[x][y] = True\n",
    "        \n",
    "        #8-connectivity\n",
    "        directions = [(1, 0), (-1, 0), (0, 1), (0, -1), (1, 1), (1, -1), (-1, 1), (-1, -1)]\n",
    "        for dx, dy in directions:\n",
    "            nx, ny = x + dx, y + dy\n",
    "            dfs(nx, ny)\n",
    "\n",
    "    object_count = 0\n",
    "    for i in range(rows):\n",
    "        for j in range(cols):\n",
    "            if not visited[i][j] and image[i][j] == '1':\n",
    "                dfs(i, j)\n",
    "                object_count += 1\n",
    "            \n",
    "    return object_count\n",
    "\n",
    "    \n",
    "def main():\n",
    "    result = count_objects((input().split()))\n",
    "    print(result)\n",
    "\n",
    "if __name__ == \"__main__\":\n",
    "    main()\n",
    "\n"
   ]
  },
  {
   "cell_type": "markdown",
   "metadata": {},
   "source": [
    "Dilation"
   ]
  },
  {
   "cell_type": "code",
   "execution_count": 30,
   "metadata": {},
   "outputs": [
    {
     "name": "stdout",
     "output_type": "stream",
     "text": [
      "[[1 1 1 1 1 1 1 1 1 0]\n",
      " [1 1 1 1 1 1 1 1 1 0]\n",
      " [1 1 1 1 1 1 1 1 1 0]\n",
      " [0 0 1 1 1 1 1 1 1 0]\n",
      " [0 0 1 1 1 1 1 1 1 0]\n",
      " [0 0 1 1 1 1 1 1 1 0]\n",
      " [0 0 1 1 1 1 1 1 1 0]\n",
      " [0 0 1 1 1 1 0 0 0 0]]\n"
     ]
    }
   ],
   "source": [
    "import numpy as np\n",
    "\n",
    "input_string = \"\"\"0000000000\n",
    "0111111100\n",
    "0000111100\n",
    "0000111100\n",
    "0001111100\n",
    "0000111100\n",
    "0001100000\n",
    "0000000000\"\"\"\n",
    "\n",
    "input_structuring_element = \"\"\"111\n",
    "111\n",
    "111\"\"\"\n",
    "\n",
    "# Split the input string by newline characters and convert each line into a list of integers\n",
    "image = [[int(char) for char in line] for line in input_string.split('\\n')]\n",
    "se = [[int(char) for char in line] for line in input_structuring_element.split('\\n')]\n",
    "\n",
    "\n",
    "def dilate(image, structuring_element):\n",
    "    rows = len(image)\n",
    "    cols = len(image[0])\n",
    "    struct_rows = len(structuring_element)\n",
    "    struct_cols = len(structuring_element[0])\n",
    "    result = [[0] * cols for _ in range(rows)]\n",
    "\n",
    "    for i in range(rows):\n",
    "        for j in range(cols):\n",
    "            if image[i][j] == 1:\n",
    "                #tidak terpakai sebenernya di fungsi dilation (tidak penting)\n",
    "                for m in range(struct_rows):\n",
    "                    for n in range(struct_cols):\n",
    "                        if structuring_element[m][n] == 1:\n",
    "                            #langsung sini bisya\n",
    "                            for p in range(-1, 2):\n",
    "                                for q in range(-1, 2):\n",
    "                                    if i+p >= 0 and i+p < rows and j+q >= 0 and j+q < cols:\n",
    "                                        result[i+p][j+q] = 1\n",
    "\n",
    "    return result\n",
    "    \n",
    "dilated_image = dilate(image, se)\n",
    "\n",
    "marked_pixels = sum(sum(row) for row in dilated_image)\n",
    "\n",
    "np_dilated_image = np.array(dilated_image)\n",
    "\n",
    "print(np_dilated_image)\n"
   ]
  },
  {
   "cell_type": "code",
   "execution_count": 17,
   "metadata": {},
   "outputs": [
    {
     "name": "stdout",
     "output_type": "stream",
     "text": [
      "Number of pixels marked as 1 after closing: 0\n",
      "[[0 0 0 0 0 0 0 0 0 0]\n",
      " [0 0 0 0 0 0 0 0 0 0]\n",
      " [0 0 0 0 0 1 1 0 0 0]\n",
      " [0 0 0 0 0 1 1 0 0 0]\n",
      " [0 0 0 0 0 1 1 0 0 0]\n",
      " [0 0 0 0 0 0 0 0 0 0]\n",
      " [0 0 0 0 0 0 0 0 0 0]\n",
      " [0 0 0 0 0 0 0 0 0 0]\n",
      " [0 0 0 0 0 0 0 0 0 0]]\n"
     ]
    }
   ],
   "source": [
    "import numpy as np\n",
    "\n",
    "# Original image\n",
    "image = np.array([\n",
    "    [0,0,0,0,0,0,0,0,0,0],\n",
    "    [0,1,1,1,1,1,1,1,0,0],\n",
    "    [0,0,0,0,1,1,1,1,0,0],\n",
    "    [0,0,0,0,1,1,1,1,0,0],\n",
    "    [0,0,0,1,1,1,1,1,0,0],\n",
    "    [0,0,0,0,1,1,1,1,0,0],\n",
    "    [0,0,0,1,1,0,0,0,0,0],\n",
    "    [0,0,0,0,0,0,0,0,0,0],\n",
    "    [0,0,0,0,0,0,0,0,0,0]\n",
    "])\n",
    "\n",
    "# Structuring element\n",
    "structuring_element = np.array([\n",
    "    [1,1,1],\n",
    "    [1,1,1],\n",
    "    [1,1,1]\n",
    "])\n",
    "\n",
    "# Function to perform dilation operation\n",
    "def dilation(image, structuring_element):\n",
    "    result = np.zeros_like(image)\n",
    "    m, n = structuring_element.shape\n",
    "    for i in range(image.shape[0] - m + 1):\n",
    "        for j in range(image.shape[1] - n + 1):\n",
    "            if np.all(image[i:i+m, j:j+n] == structuring_element):\n",
    "                result[i+(m//2), j+(n//2)] = 1\n",
    "    return result\n",
    "\n",
    "# Function to perform erosion operation\n",
    "def erosion(image, structuring_element):\n",
    "    result = np.zeros_like(image)\n",
    "    m, n = structuring_element.shape\n",
    "    for i in range(image.shape[0] - m + 1):\n",
    "        for j in range(image.shape[1] - n + 1):\n",
    "            if np.all(image[i:i+m, j:j+n] == structuring_element):\n",
    "                result[i+(m//2), j+(n//2)] = 1\n",
    "    return result\n",
    "\n",
    "# Perform closing operation (dilation followed by erosion)\n",
    "dilated_image = dilation(image, structuring_element)\n",
    "result_image = erosion(dilated_image, structuring_element)\n",
    "\n",
    "# Count number of pixels marked as 1\n",
    "num_pixels_1 = np.sum(result_image)\n",
    "\n",
    "print(\"Number of pixels marked as 1 after closing:\", num_pixels_1)\n",
    "print(dilated_image)\n"
   ]
  },
  {
   "cell_type": "markdown",
   "metadata": {},
   "source": [
    "Erosion"
   ]
  },
  {
   "cell_type": "code",
   "execution_count": 9,
   "metadata": {},
   "outputs": [
    {
     "name": "stdout",
     "output_type": "stream",
     "text": [
      "[[0 0 0 0 0 0 0 0 0 0]\n",
      " [0 1 1 1 1 1 1 1 0 0]\n",
      " [0 0 0 0 1 1 1 1 0 0]\n",
      " [0 0 0 0 1 1 1 1 0 0]\n",
      " [0 0 0 1 1 1 1 1 0 0]\n",
      " [0 0 0 0 1 1 1 1 0 0]\n",
      " [0 0 0 1 1 0 0 0 0 0]\n",
      " [0 0 0 0 0 0 0 0 0 0]\n",
      " [0 0 0 0 0 0 0 0 0 0]]\n",
      "Image Awal\n",
      "[[0 0 0 0 0 0 0 0 0 0]\n",
      " [0 0 0 0 0 0 0 0 0 0]\n",
      " [0 0 0 0 0 1 0 0 0 0]\n",
      " [0 0 0 0 0 0 0 0 0 0]\n",
      " [0 0 0 0 0 0 0 0 0 0]\n",
      " [0 0 0 0 0 0 0 0 0 0]\n",
      " [0 0 0 0 0 0 0 0 0 0]\n",
      " [0 0 0 0 0 0 0 0 0 0]\n",
      " [0 0 0 0 0 0 0 0 0 0]]\n",
      "Step ke-1\n",
      "[[0 0 0 0 0 0 0 0 0 0]\n",
      " [0 0 0 0 0 0 0 0 0 0]\n",
      " [0 0 0 0 0 1 1 0 0 0]\n",
      " [0 0 0 0 0 0 0 0 0 0]\n",
      " [0 0 0 0 0 0 0 0 0 0]\n",
      " [0 0 0 0 0 0 0 0 0 0]\n",
      " [0 0 0 0 0 0 0 0 0 0]\n",
      " [0 0 0 0 0 0 0 0 0 0]\n",
      " [0 0 0 0 0 0 0 0 0 0]]\n",
      "Step ke-2\n",
      "[[0 0 0 0 0 0 0 0 0 0]\n",
      " [0 0 0 0 0 0 0 0 0 0]\n",
      " [0 0 0 0 0 1 1 0 0 0]\n",
      " [0 0 0 0 0 1 0 0 0 0]\n",
      " [0 0 0 0 0 0 0 0 0 0]\n",
      " [0 0 0 0 0 0 0 0 0 0]\n",
      " [0 0 0 0 0 0 0 0 0 0]\n",
      " [0 0 0 0 0 0 0 0 0 0]\n",
      " [0 0 0 0 0 0 0 0 0 0]]\n",
      "Step ke-3\n",
      "[[0 0 0 0 0 0 0 0 0 0]\n",
      " [0 0 0 0 0 0 0 0 0 0]\n",
      " [0 0 0 0 0 1 1 0 0 0]\n",
      " [0 0 0 0 0 1 1 0 0 0]\n",
      " [0 0 0 0 0 0 0 0 0 0]\n",
      " [0 0 0 0 0 0 0 0 0 0]\n",
      " [0 0 0 0 0 0 0 0 0 0]\n",
      " [0 0 0 0 0 0 0 0 0 0]\n",
      " [0 0 0 0 0 0 0 0 0 0]]\n",
      "Step ke-4\n",
      "[[0 0 0 0 0 0 0 0 0 0]\n",
      " [0 0 0 0 0 0 0 0 0 0]\n",
      " [0 0 0 0 0 1 1 0 0 0]\n",
      " [0 0 0 0 0 1 1 0 0 0]\n",
      " [0 0 0 0 0 1 0 0 0 0]\n",
      " [0 0 0 0 0 0 0 0 0 0]\n",
      " [0 0 0 0 0 0 0 0 0 0]\n",
      " [0 0 0 0 0 0 0 0 0 0]\n",
      " [0 0 0 0 0 0 0 0 0 0]]\n",
      "Step ke-5\n",
      "[[0 0 0 0 0 0 0 0 0 0]\n",
      " [0 0 0 0 0 0 0 0 0 0]\n",
      " [0 0 0 0 0 1 1 0 0 0]\n",
      " [0 0 0 0 0 1 1 0 0 0]\n",
      " [0 0 0 0 0 1 1 0 0 0]\n",
      " [0 0 0 0 0 0 0 0 0 0]\n",
      " [0 0 0 0 0 0 0 0 0 0]\n",
      " [0 0 0 0 0 0 0 0 0 0]\n",
      " [0 0 0 0 0 0 0 0 0 0]]\n",
      "Step ke-6\n",
      "Number of pixels marked as 1 after erosion: 6\n"
     ]
    }
   ],
   "source": [
    "import numpy as np\n",
    "\n",
    "# Original image\n",
    "image = np.array([\n",
    "    [0,0,0,0,0,0,0,0,0,0],\n",
    "    [0,1,1,1,1,1,1,1,0,0],\n",
    "    [0,0,0,0,1,1,1,1,0,0],\n",
    "    [0,0,0,0,1,1,1,1,0,0],\n",
    "    [0,0,0,1,1,1,1,1,0,0],\n",
    "    [0,0,0,0,1,1,1,1,0,0],\n",
    "    [0,0,0,1,1,0,0,0,0,0],\n",
    "    [0,0,0,0,0,0,0,0,0,0],\n",
    "    [0,0,0,0,0,0,0,0,0,0]\n",
    "])\n",
    "\n",
    "# Structuring element\n",
    "structuring_element = np.array([\n",
    "    [1,1,1],\n",
    "    [1,1,1],\n",
    "    [1,1,1]\n",
    "])\n",
    "\n",
    "print(image)\n",
    "print(\"Image Awal\")\n",
    "\n",
    "# Function to perform erosion operation\n",
    "def erosion(image, structuring_element):\n",
    "    step = 0\n",
    "    result = np.zeros_like(image)\n",
    "    m, n = structuring_element.shape\n",
    "    for i in range(image.shape[0] - m + 1):\n",
    "        for j in range(image.shape[1] - n + 1):\n",
    "            if np.all(image[i:i+m, j:j+n] == structuring_element):\n",
    "                step += 1\n",
    "                result[i+(m//2), j+(n//2)] = 1\n",
    "                print(result)\n",
    "                print(\"Step ke-\"+str(step))\n",
    "    return result\n",
    "\n",
    "# Perform erosion operation\n",
    "result_image = erosion(image, structuring_element)\n",
    "\n",
    "# Count number of pixels marked as 1\n",
    "num_pixels_1 = np.sum(result_image)\n",
    "\n",
    "print(\"Number of pixels marked as 1 after erosion:\", num_pixels_1)\n"
   ]
  },
  {
   "cell_type": "markdown",
   "metadata": {},
   "source": [
    "CLOSING"
   ]
  },
  {
   "cell_type": "code",
   "execution_count": 39,
   "metadata": {},
   "outputs": [
    {
     "name": "stdout",
     "output_type": "stream",
     "text": [
      "29\n"
     ]
    }
   ],
   "source": [
    "import numpy as np\n",
    "\n",
    "# Original image\n",
    "image = np.array([\n",
    "    [0,0,0,0,0,0,0,0,0,0],\n",
    "    [0,1,1,1,1,1,1,1,0,0],\n",
    "    [0,0,0,0,1,1,1,1,0,0],\n",
    "    [0,0,0,0,1,1,1,1,0,0],\n",
    "    [0,0,0,1,1,1,1,1,0,0],\n",
    "    [0,0,0,0,1,1,1,1,0,0],\n",
    "    [0,0,0,1,1,0,0,0,0,0],\n",
    "    [0,0,0,0,0,0,0,0,0,0],\n",
    "    [0,0,0,0,0,0,0,0,0,0]\n",
    "])\n",
    "\n",
    "# Structuring element\n",
    "structuring_element = np.array([\n",
    "    [1,1,1],\n",
    "    [1,1,1],\n",
    "    [1,1,1]\n",
    "])\n",
    "\n",
    "\n",
    "def dilate(image, structuring_element):\n",
    "    rows = len(image)\n",
    "    cols = len(image[0])\n",
    "    struct_rows = len(structuring_element)\n",
    "    struct_cols = len(structuring_element[0])\n",
    "    result = [[0] * cols for _ in range(rows)]\n",
    "\n",
    "    for i in range(rows):\n",
    "        for j in range(cols):\n",
    "            if image[i][j] == 1:\n",
    "                #tidak terpakai sebenernya di fungsi dilation (tidak penting)\n",
    "                for m in range(struct_rows):\n",
    "                    for n in range(struct_cols):\n",
    "                        if structuring_element[m][n] == 1:\n",
    "                            #langsung sini bisya\n",
    "                            for p in range(-1, 2):\n",
    "                                for q in range(-1, 2):\n",
    "                                    if i+p >= 0 and i+p < rows and j+q >= 0 and j+q < cols:\n",
    "                                        result[i+p][j+q] = 1\n",
    "\n",
    "    return result\n",
    "\n",
    "def erosion(image, structuring_element):\n",
    "    result = np.zeros_like(image)\n",
    "    m, n = structuring_element.shape\n",
    "    for i in range(image.shape[0] - m + 1):\n",
    "        for j in range(image.shape[1] - n + 1):\n",
    "            if np.all(image[i:i+m, j:j+n] == structuring_element):\n",
    "                result[i+(m//2), j+(n//2)] = 1\n",
    "    return result\n",
    "\n",
    "#closing is combination of dilation into erosion\n",
    "dilated_image = dilate(image, structuring_element)\n",
    "np_dilated_image = np.array(dilated_image)\n",
    "eroded_image = erosion(np_dilated_image, structuring_element)\n",
    "\n",
    "num_pixels = sum(sum(row) for row in eroded_image)\n",
    "\n",
    "print(num_pixels)\n",
    "\n",
    "\n"
   ]
  },
  {
   "cell_type": "code",
   "execution_count": 21,
   "metadata": {},
   "outputs": [
    {
     "name": "stdout",
     "output_type": "stream",
     "text": [
      "Number of pixels marked as 1 after closing: 29\n",
      "[[ True  True  True  True  True  True  True  True  True False]\n",
      " [ True  True  True  True  True  True  True  True  True False]\n",
      " [ True  True  True  True  True  True  True  True  True False]\n",
      " [False False  True  True  True  True  True  True  True False]\n",
      " [False False  True  True  True  True  True  True  True False]\n",
      " [False False  True  True  True  True  True  True  True False]\n",
      " [False False  True  True  True  True  True  True  True False]\n",
      " [False False  True  True  True  True False False False False]\n",
      " [False False False False False False False False False False]]\n"
     ]
    }
   ],
   "source": [
    "#using scipy\n",
    "import numpy as np\n",
    "\n",
    "# Original image\n",
    "image = np.array([\n",
    "    [0,0,0,0,0,0,0,0,0,0],\n",
    "    [0,1,1,1,1,1,1,1,0,0],\n",
    "    [0,0,0,0,1,1,1,1,0,0],\n",
    "    [0,0,0,0,1,1,1,1,0,0],\n",
    "    [0,0,0,1,1,1,1,1,0,0],\n",
    "    [0,0,0,0,1,1,1,1,0,0],\n",
    "    [0,0,0,1,1,0,0,0,0,0],\n",
    "    [0,0,0,0,0,0,0,0,0,0],\n",
    "    [0,0,0,0,0,0,0,0,0,0]\n",
    "])\n",
    "\n",
    "# Structuring element\n",
    "structuring_element = np.array([\n",
    "    [1,1,1],\n",
    "    [1,1,1],\n",
    "    [1,1,1]\n",
    "])\n",
    "\n",
    "# Function to perform dilation operation\n",
    "def dilation(image, structuring_element):\n",
    "    from scipy.ndimage import binary_dilation\n",
    "    return binary_dilation(image, structure=structuring_element)\n",
    "\n",
    "# Function to perform erosion operation\n",
    "def erosion(image, structuring_element):\n",
    "    from scipy.ndimage import binary_erosion\n",
    "    return binary_erosion(image, structure=structuring_element)\n",
    "\n",
    "# Perform closing operation (dilation followed by erosion)\n",
    "dilated_image = dilation(image, structuring_element)\n",
    "result_image = erosion(dilated_image, structuring_element)\n",
    "\n",
    "# Count number of pixels marked as 1\n",
    "num_pixels_1 = np.sum(result_image)\n",
    "\n",
    "print(\"Number of pixels marked as 1 after closing:\", num_pixels_1)\n",
    "print(dilated_image)\n"
   ]
  },
  {
   "cell_type": "code",
   "execution_count": 40,
   "metadata": {},
   "outputs": [
    {
     "name": "stdout",
     "output_type": "stream",
     "text": [
      "29\n"
     ]
    }
   ],
   "source": [
    "#wihout numpy\n",
    "input_string = \"\"\"0000000000\n",
    "0111111100\n",
    "0000111100\n",
    "0000111100\n",
    "0001111100\n",
    "0000111100\n",
    "0001100000\n",
    "0000000000\"\"\"\n",
    "\n",
    "input_structuring_element = \"\"\"111\n",
    "111\n",
    "111\"\"\"\n",
    "\n",
    "# Split the input string by newline characters and convert each line into a list of integers\n",
    "image = [[int(char) for char in line] for line in input_string.split('\\n')]\n",
    "se = [[int(char) for char in line] for line in input_structuring_element.split('\\n')]\n",
    "\n",
    "def dilate(image, structuring_element):\n",
    "    rows = len(image)\n",
    "    cols = len(image[0])\n",
    "    struct_rows = len(structuring_element)\n",
    "    struct_cols = len(structuring_element[0])\n",
    "    result = [[0] * cols for _ in range(rows)]\n",
    "\n",
    "    for i in range(rows):\n",
    "        for j in range(cols):\n",
    "            if image[i][j] == 1:\n",
    "                #tidak terpakai sebenernya di fungsi dilation (tidak penting)\n",
    "                for m in range(struct_rows):\n",
    "                    for n in range(struct_cols):\n",
    "                        if structuring_element[m][n] == 1:\n",
    "                            #langsung sini bisya\n",
    "                            for p in range(-1, 2):\n",
    "                                for q in range(-1, 2):\n",
    "                                    if i+p >= 0 and i+p < rows and j+q >= 0 and j+q < cols:\n",
    "                                        result[i+p][j+q] = 1\n",
    "\n",
    "    return result\n",
    "\n",
    "def erosion(image, structuring_element):\n",
    "    result = [[0]*len(image[0]) for _ in range(len(image))]\n",
    "    m, n = len(structuring_element), len(structuring_element[0])\n",
    "    for i in range(len(image) - m + 1):\n",
    "        for j in range(len(image[0]) - n + 1):\n",
    "            if all(image[i+x][j+y] == 1 for x in range(m) for y in range(n)):\n",
    "                for x in range(m):\n",
    "                    for y in range(n):\n",
    "                        result[i+(m//2)][j+(n//2)] = 1\n",
    "    return result\n",
    "\n",
    "\n",
    "#closing is combination of dilation into erosion\n",
    "dilated_image = dilate(image, se)\n",
    "eroded_image = erosion(dilated_image, se)\n",
    "\n",
    "num_pixels = sum(sum(row) for row in eroded_image)\n",
    "\n",
    "print(num_pixels)\n"
   ]
  },
  {
   "cell_type": "markdown",
   "metadata": {},
   "source": [
    "OPENING"
   ]
  },
  {
   "cell_type": "code",
   "execution_count": 4,
   "metadata": {},
   "outputs": [
    {
     "name": "stdout",
     "output_type": "stream",
     "text": [
      "20\n"
     ]
    }
   ],
   "source": [
    "#wihout numpy\n",
    "input_string = \"\"\"0000000000\n",
    "0111111100\n",
    "0000111100\n",
    "0000111100\n",
    "0001111100\n",
    "0000111100\n",
    "0001100000\n",
    "0000000000\"\"\"\n",
    "\n",
    "input_structuring_element = \"\"\"111\n",
    "111\n",
    "111\"\"\"\n",
    "\n",
    "# Split the input string by newline characters and convert each line into a list of integers\n",
    "image = [[int(char) for char in line] for line in input_string.split('\\n')]\n",
    "se = [[int(char) for char in line] for line in input_structuring_element.split('\\n')]\n",
    "\n",
    "def dilate(image, structuring_element):\n",
    "    rows = len(image)\n",
    "    cols = len(image[0])\n",
    "    struct_rows = len(structuring_element)\n",
    "    struct_cols = len(structuring_element[0])\n",
    "    result = [[0] * cols for _ in range(rows)]\n",
    "\n",
    "    for i in range(rows):\n",
    "        for j in range(cols):\n",
    "            if image[i][j] == 1:\n",
    "                #tidak terpakai sebenernya di fungsi dilation (tidak penting)\n",
    "                for m in range(struct_rows):\n",
    "                    for n in range(struct_cols):\n",
    "                        if structuring_element[m][n] == 1:\n",
    "                            #langsung sini bisya\n",
    "                            for p in range(-1, 2):\n",
    "                                for q in range(-1, 2):\n",
    "                                    if i+p >= 0 and i+p < rows and j+q >= 0 and j+q < cols:\n",
    "                                        result[i+p][j+q] = 1\n",
    "\n",
    "    return result\n",
    "\n",
    "def erosion(image, structuring_element):\n",
    "    result = [[0]*len(image[0]) for _ in range(len(image))]\n",
    "    m, n = len(structuring_element), len(structuring_element[0])\n",
    "    for i in range(len(image) - m + 1):\n",
    "        for j in range(len(image[0]) - n + 1):\n",
    "            if all(image[i+x][j+y] == 1 for x in range(m) for y in range(n)):\n",
    "                for x in range(m):\n",
    "                    for y in range(n):\n",
    "                        result[i+(m//2)][j+(n//2)] = 1\n",
    "    return result\n",
    "\n",
    "\n",
    "#opening is combination of erosion into dilation\n",
    "eroded_image = erosion(image, se)\n",
    "dilated_image = dilate(eroded_image, se)\n",
    "\n",
    "\n",
    "num_pixels = sum(sum(row) for row in dilated_image)\n",
    "\n",
    "print(num_pixels)\n"
   ]
  },
  {
   "cell_type": "markdown",
   "metadata": {},
   "source": [
    "EROSION WITH UNUSUAL KERNEL"
   ]
  },
  {
   "cell_type": "code",
   "execution_count": 21,
   "metadata": {},
   "outputs": [
    {
     "name": "stdout",
     "output_type": "stream",
     "text": [
      "00000\n",
      "00110\n",
      "00110\n",
      "00000\n"
     ]
    }
   ],
   "source": [
    "def erosion(image, structuring_element):\n",
    "    result = []\n",
    "    for i in range(len(image)):\n",
    "        row = ''\n",
    "        for j in range(len(image[0])):\n",
    "            # Check if all neighbors as defined by the structuring element are 1s\n",
    "            if all(0 <= i + k < len(image) and 0 <= j < len(image[0]) and image[i+k][j] == 1 for k in range(-1, 2)):\n",
    "                row += '1'\n",
    "            else:\n",
    "                row += '0'\n",
    "        result.append(row)\n",
    "    return result\n",
    "\n",
    "# Original image\n",
    "image = [\n",
    "    [0,0,1,1,0],\n",
    "    [0,0,1,1,0],\n",
    "    [0,0,1,1,0],\n",
    "    [1,1,1,1,1]\n",
    "]\n",
    "\n",
    "# Structuring element\n",
    "structuring_element = [\n",
    "    [1],\n",
    "    [1],\n",
    "    [1]\n",
    "]\n",
    "\n",
    "# Perform erosion\n",
    "result = erosion(image, structuring_element)\n",
    "\n",
    "# Print the resulting image\n",
    "for row in result:\n",
    "    print(row)\n"
   ]
  },
  {
   "cell_type": "code",
   "execution_count": 14,
   "metadata": {},
   "outputs": [
    {
     "name": "stdout",
     "output_type": "stream",
     "text": [
      "00000\n",
      "00110\n",
      "00110\n",
      "00000\n"
     ]
    }
   ],
   "source": [
    "#wihout numpy\n",
    "input_string = \"\"\"00110\n",
    "00110\n",
    "00110\n",
    "11111\"\"\"\n",
    "\n",
    "input_structuring_element = \"\"\"1\n",
    "1\n",
    "1\"\"\"\n",
    "\n",
    "# Split the input string by newline characters and convert each line into a list of integers\n",
    "image = [[int(char) for char in line] for line in input_string.split('\\n')]\n",
    "se = [[int(char) for char in line] for line in input_structuring_element.split('\\n')]\n",
    "\n",
    "def erosion(image, structuring_element):\n",
    "    result = [[0]*len(image[0]) for _ in range(len(image))]\n",
    "    m, n = len(structuring_element), len(structuring_element[0])\n",
    "    for i in range(len(image) - m + 1):\n",
    "        for j in range(len(image[0]) - n + 1):\n",
    "            if all(image[i+x][j+y] == 1 for x in range(m) for y in range(n)):\n",
    "                for x in range(m):\n",
    "                    for y in range(n):\n",
    "                        result[i+(m//2)][j+(n//2)] = 1\n",
    "    return result\n",
    "\n",
    "\n",
    "eroded_image = erosion(image, se)\n",
    "\n",
    "num_pixels = sum(sum(row) for row in eroded_image)\n",
    " \n",
    "result = '\\n'.join([''.join(map(str,row)) for row in eroded_image])\n",
    "\n",
    "print(result)"
   ]
  },
  {
   "cell_type": "markdown",
   "metadata": {},
   "source": [
    "DILATION WITH UNUSUAL KERNEL"
   ]
  },
  {
   "cell_type": "code",
   "execution_count": 1,
   "metadata": {},
   "outputs": [
    {
     "name": "stdout",
     "output_type": "stream",
     "text": [
      "0110\n",
      "0111\n",
      "0000\n"
     ]
    }
   ],
   "source": [
    "#wihout numpy\n",
    "input_string = \"\"\"0000\n",
    "0110\n",
    "0000\"\"\"\n",
    "\n",
    "input_structuring_element = \"\"\"10\n",
    "11\"\"\"\n",
    "\n",
    "# Split the input string by newline characters and convert each line into a list of integers\n",
    "image = [[int(char) for char in line] for line in input_string.split('\\n')]\n",
    "se = [[int(char) for char in line] for line in input_structuring_element.split('\\n')]\n",
    "\n",
    "def dilate(image, structuring_element):\n",
    "    rows = len(image)\n",
    "    cols = len(image[0])\n",
    "    result = [[0] * cols for _ in range(rows)]\n",
    "\n",
    "    for i in range(rows):\n",
    "        for j in range(cols):\n",
    "            if image[i][j] == 1:\n",
    "                for p in range(-1, 1):\n",
    "                    for q in range(0, 2):\n",
    "                        if i+p >= 0 and i+p < rows and j+q >= 0 and j+q < cols:\n",
    "                            if structuring_element[p+1][q] == 1:\n",
    "                                result[i+p][j+q] = 1\n",
    "\n",
    "    return result\n",
    "\n",
    "\n",
    "dilated_image = dilate(image, se)\n",
    "\n",
    "num_pixels = sum(sum(row) for row in dilated_image)\n",
    " \n",
    "result = '\\n'.join([''.join(map(str,row)) for row in dilated_image])\n",
    "\n",
    "print(result)"
   ]
  },
  {
   "cell_type": "markdown",
   "metadata": {},
   "source": [
    "Day and Night"
   ]
  },
  {
   "cell_type": "code",
   "execution_count": 7,
   "metadata": {},
   "outputs": [
    {
     "name": "stdout",
     "output_type": "stream",
     "text": [
      "33.08641975308642\n",
      "night\n"
     ]
    }
   ],
   "source": [
    "import numpy as np\n",
    "\n",
    "def detect_day_or_night(image):\n",
    "    # Calculate the average brightness of the image\n",
    "    image_np = np.zeros((len(image), len(image[0]), 3), dtype=int)\n",
    "    for i in range(len(image)):\n",
    "        for j in range(len(image[0])):\n",
    "            pixel_values = image[i][j].split(',')\n",
    "            image_np[i, j] = [int(value) for value in pixel_values]\n",
    "    \n",
    "    average_brightness = np.mean(image_np) * 100 / 255\n",
    "    \n",
    "    # Define a threshold value to classify images\n",
    "    threshold = 50  # Adjust this threshold as needed\n",
    "    \n",
    "    # Classify the image as day or night based on the average brightness\n",
    "    if average_brightness > threshold:\n",
    "        return 'day'\n",
    "    else:\n",
    "        return 'night'\n",
    "\n",
    "# Read the input image from STDIN\n",
    "image = []\n",
    "while True:\n",
    "    try:\n",
    "        row = input().strip().split()\n",
    "        image.append(row)\n",
    "    except EOFError:\n",
    "        break\n",
    "\n",
    "# Detect day or night\n",
    "result = detect_day_or_night(image)\n",
    "print(result)\n"
   ]
  },
  {
   "cell_type": "code",
   "execution_count": 23,
   "metadata": {},
   "outputs": [],
   "source": [
    "image_np = np.zeros((3, 3, 3), dtype=int)"
   ]
  },
  {
   "cell_type": "code",
   "execution_count": 24,
   "metadata": {},
   "outputs": [
    {
     "data": {
      "text/plain": [
       "array([[[0, 0, 0],\n",
       "        [0, 0, 0],\n",
       "        [0, 0, 0]],\n",
       "\n",
       "       [[0, 0, 0],\n",
       "        [0, 0, 0],\n",
       "        [0, 0, 0]],\n",
       "\n",
       "       [[0, 0, 0],\n",
       "        [0, 0, 0],\n",
       "        [0, 0, 0]]])"
      ]
     },
     "execution_count": 24,
     "metadata": {},
     "output_type": "execute_result"
    }
   ],
   "source": [
    "image_np"
   ]
  },
  {
   "cell_type": "code",
   "execution_count": 29,
   "metadata": {},
   "outputs": [],
   "source": [
    "image_np[0,0] = [10,10,10]"
   ]
  },
  {
   "cell_type": "code",
   "execution_count": 35,
   "metadata": {},
   "outputs": [
    {
     "data": {
      "text/plain": [
       "array([10, 10, 10])"
      ]
     },
     "execution_count": 35,
     "metadata": {},
     "output_type": "execute_result"
    }
   ],
   "source": [
    "image_np[0,0]"
   ]
  },
  {
   "cell_type": "code",
   "execution_count": null,
   "metadata": {},
   "outputs": [],
   "source": []
  }
 ],
 "metadata": {
  "kernelspec": {
   "display_name": "hackerlib",
   "language": "python",
   "name": "python3"
  },
  "language_info": {
   "codemirror_mode": {
    "name": "ipython",
    "version": 3
   },
   "file_extension": ".py",
   "mimetype": "text/x-python",
   "name": "python",
   "nbconvert_exporter": "python",
   "pygments_lexer": "ipython3",
   "version": "3.10.5"
  }
 },
 "nbformat": 4,
 "nbformat_minor": 2
}
