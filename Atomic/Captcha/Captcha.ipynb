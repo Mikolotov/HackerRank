{
 "cells": [
  {
   "cell_type": "markdown",
   "metadata": {},
   "source": [
    "REMOVE BACKGROUND"
   ]
  },
  {
   "cell_type": "code",
   "execution_count": 514,
   "metadata": {},
   "outputs": [
    {
     "name": "stdout",
     "output_type": "stream",
     "text": [
      "0,0,0 0,0,0 0,0,0 0,0,0 0,0,0 0,0,0 0,0,0 -,-,- -,-,- -,-,- -,-,- 0,0,0 0,0,0 0,0,0 0,0,0 0,0,0 -,-,- -,-,- 0,0,0 0,0,0 -,-,- -,-,- -,-,- -,-,- 0,0,0 0,0,0 -,-,- 0,0,0 0,0,0 -,-,- -,-,- -,-,- -,-,- 0,0,0 0,0,0 -,-,- -,-,- -,-,- -,-,- -,-,- -,-,- 0,0,0 0,0,0 -,-,-\n",
      "\n",
      "0,0,0 0,0,0 -,-,- -,-,- -,-,- -,-,- -,-,- -,-,- -,-,- -,-,- 0,0,0 0,0,0 -,-,- -,-,- -,-,- 0,0,0 0,0,0 -,-,- 0,0,0 0,0,0 -,-,- -,-,- -,-,- -,-,- 0,0,0 0,0,0 -,-,- 0,0,0 0,0,0 -,-,- -,-,- -,-,- 0,0,0 0,0,0 -,-,- -,-,- -,-,- -,-,- -,-,- -,-,- 0,0,0 0,0,0 0,0,0 -,-,-\n",
      "\n",
      "0,0,0 0,0,0 -,-,- -,-,- -,-,- -,-,- -,-,- -,-,- -,-,- 0,0,0 0,0,0 -,-,- -,-,- -,-,- -,-,- -,-,- -,-,- -,-,- -,-,- 0,0,0 0,0,0 -,-,- -,-,- 0,0,0 0,0,0 -,-,- -,-,- 0,0,0 0,0,0 -,-,- -,-,- 0,0,0 0,0,0 -,-,- -,-,- -,-,- -,-,- -,-,- -,-,- 0,0,0 0,0,0 0,0,0 0,0,0 -,-,-\n",
      "\n",
      "0,0,0 0,0,0 -,-,- -,-,- -,-,- -,-,- -,-,- -,-,- -,-,- 0,0,0 0,0,0 -,-,- -,-,- -,-,- -,-,- -,-,- -,-,- -,-,- -,-,- -,-,- 0,0,0 0,0,0 0,0,0 0,0,0 -,-,- -,-,- -,-,- 0,0,0 0,0,0 -,-,- 0,0,0 0,0,0 -,-,- -,-,- -,-,- -,-,- -,-,- -,-,- 0,0,0 0,0,0 -,-,- 0,0,0 0,0,0 -,-,-\n",
      "\n",
      "0,0,0 0,0,0 0,0,0 0,0,0 0,0,0 0,0,0 -,-,- -,-,- -,-,- 0,0,0 0,0,0 -,-,- -,-,- -,-,- -,-,- -,-,- -,-,- -,-,- -,-,- -,-,- -,-,- 0,0,0 0,0,0 -,-,- -,-,- -,-,- -,-,- 0,0,0 0,0,0 0,0,0 0,0,0 -,-,- -,-,- -,-,- -,-,- -,-,- -,-,- 0,0,0 0,0,0 -,-,- -,-,- 0,0,0 0,0,0 -,-,-\n",
      "\n",
      "0,0,0 0,0,0 -,-,- -,-,- -,-,- -,-,- -,-,- -,-,- -,-,- 0,0,0 0,0,0 -,-,- -,-,- -,-,- 0,0,0 0,0,0 0,0,0 -,-,- -,-,- -,-,- -,-,- 0,0,0 0,0,0 -,-,- -,-,- -,-,- -,-,- 0,0,0 0,0,0 0,0,0 0,0,0 -,-,- -,-,- -,-,- -,-,- -,-,- 0,0,0 0,0,0 -,-,- -,-,- -,-,- 0,0,0 0,0,0 -,-,-\n",
      "\n",
      "0,0,0 0,0,0 -,-,- -,-,- -,-,- -,-,- -,-,- -,-,- -,-,- 0,0,0 0,0,0 -,-,- -,-,- -,-,- -,-,- 0,0,0 0,0,0 -,-,- -,-,- -,-,- -,-,- 0,0,0 0,0,0 -,-,- -,-,- -,-,- -,-,- 0,0,0 0,0,0 -,-,- 0,0,0 0,0,0 -,-,- -,-,- -,-,- -,-,- 0,0,0 0,0,0 0,0,0 0,0,0 0,0,0 0,0,0 0,0,0 0,0,0\n",
      "\n",
      "0,0,0 0,0,0 -,-,- -,-,- -,-,- -,-,- -,-,- -,-,- -,-,- 0,0,0 0,0,0 -,-,- -,-,- -,-,- -,-,- 0,0,0 0,0,0 -,-,- -,-,- -,-,- -,-,- 0,0,0 0,0,0 -,-,- -,-,- -,-,- -,-,- 0,0,0 0,0,0 -,-,- -,-,- 0,0,0 0,0,0 -,-,- -,-,- -,-,- -,-,- -,-,- -,-,- -,-,- -,-,- 0,0,0 0,0,0 -,-,-\n",
      "\n",
      "0,0,0 0,0,0 -,-,- -,-,- -,-,- -,-,- -,-,- -,-,- -,-,- -,-,- 0,0,0 0,0,0 -,-,- -,-,- -,-,- 0,0,0 0,0,0 -,-,- -,-,- -,-,- -,-,- 0,0,0 0,0,0 -,-,- -,-,- -,-,- -,-,- 0,0,0 0,0,0 -,-,- -,-,- -,-,- 0,0,0 0,0,0 -,-,- -,-,- -,-,- -,-,- -,-,- -,-,- -,-,- 0,0,0 0,0,0 -,-,-\n",
      "\n",
      "0,0,0 0,0,0 0,0,0 0,0,0 0,0,0 0,0,0 0,0,0 -,-,- -,-,- -,-,- -,-,- 0,0,0 0,0,0 0,0,0 0,0,0 0,0,0 -,-,- -,-,- -,-,- -,-,- -,-,- 0,0,0 0,0,0 -,-,- -,-,- -,-,- -,-,- 0,0,0 0,0,0 -,-,- -,-,- -,-,- -,-,- 0,0,0 0,0,0 -,-,- -,-,- -,-,- -,-,- -,-,- -,-,- 0,0,0 0,0,0 -,-,-\n",
      "\n"
     ]
    }
   ],
   "source": [
    "#check Captcha\n",
    "with open('input/input00.txt', 'r') as file:\n",
    "        #specific value based on sample data\n",
    "        lines = file.readlines()[12:22]\n",
    "\n",
    "coba = []\n",
    "for line in lines:\n",
    "    coba.append(line.split())\n",
    "\n",
    "#convert the string list data into  int list data, so the model can process it\n",
    "pixel_list = [[list(map(lambda x: \"-\" if int(x) > 100 else 0, val.split(','))) for val in sublist[5:-11]] for sublist in coba]\n",
    "\n",
    "#transpose to vertical\n",
    "pixel_list_zip = list(zip(*pixel_list))\n",
    "\n",
    "\n",
    "pixel_string_list = [' '.join([','.join(map(str, pixel)) for pixel in row]) + '\\n' for row in pixel_list]\n",
    "\n",
    "for each in pixel_string_list:\n",
    "    print(each)"
   ]
  },
  {
   "cell_type": "markdown",
   "metadata": {},
   "source": [
    "Boundary :\n",
    "top 12, bottom 22\n",
    "left 5, right 11\n",
    "max 8 col/character\n",
    "1 space of each character\n"
   ]
  },
  {
   "cell_type": "code",
   "execution_count": 504,
   "metadata": {},
   "outputs": [
    {
     "data": {
      "text/plain": [
       "(44, 10)"
      ]
     },
     "execution_count": 504,
     "metadata": {},
     "output_type": "execute_result"
    }
   ],
   "source": [
    "len(pixel_list[0]),len(pixel_list_zip[0])"
   ]
  },
  {
   "cell_type": "markdown",
   "metadata": {},
   "source": [
    "REMOVE SPACE ON EACH CHARACTER"
   ]
  },
  {
   "cell_type": "code",
   "execution_count": 515,
   "metadata": {},
   "outputs": [
    {
     "name": "stdout",
     "output_type": "stream",
     "text": [
      "0,0,0 0,0,0 0,0,0 0,0,0 0,0,0 0,0,0 0,0,0 -,-,- -,-,- -,-,- 0,0,0 0,0,0 0,0,0 0,0,0 0,0,0 -,-,- 0,0,0 0,0,0 -,-,- -,-,- -,-,- -,-,- 0,0,0 0,0,0 0,0,0 0,0,0 -,-,- -,-,- -,-,- -,-,- 0,0,0 0,0,0 -,-,- -,-,- -,-,- -,-,- -,-,- 0,0,0 0,0,0 -,-,-\n",
      "\n",
      "0,0,0 0,0,0 -,-,- -,-,- -,-,- -,-,- -,-,- -,-,- -,-,- 0,0,0 0,0,0 -,-,- -,-,- -,-,- 0,0,0 0,0,0 0,0,0 0,0,0 -,-,- -,-,- -,-,- -,-,- 0,0,0 0,0,0 0,0,0 0,0,0 -,-,- -,-,- -,-,- 0,0,0 0,0,0 -,-,- -,-,- -,-,- -,-,- -,-,- 0,0,0 0,0,0 0,0,0 -,-,-\n",
      "\n",
      "0,0,0 0,0,0 -,-,- -,-,- -,-,- -,-,- -,-,- -,-,- 0,0,0 0,0,0 -,-,- -,-,- -,-,- -,-,- -,-,- -,-,- -,-,- 0,0,0 0,0,0 -,-,- -,-,- 0,0,0 0,0,0 -,-,- 0,0,0 0,0,0 -,-,- -,-,- 0,0,0 0,0,0 -,-,- -,-,- -,-,- -,-,- -,-,- 0,0,0 0,0,0 0,0,0 0,0,0 -,-,-\n",
      "\n",
      "0,0,0 0,0,0 -,-,- -,-,- -,-,- -,-,- -,-,- -,-,- 0,0,0 0,0,0 -,-,- -,-,- -,-,- -,-,- -,-,- -,-,- -,-,- -,-,- 0,0,0 0,0,0 0,0,0 0,0,0 -,-,- -,-,- 0,0,0 0,0,0 -,-,- 0,0,0 0,0,0 -,-,- -,-,- -,-,- -,-,- -,-,- 0,0,0 0,0,0 -,-,- 0,0,0 0,0,0 -,-,-\n",
      "\n",
      "0,0,0 0,0,0 0,0,0 0,0,0 0,0,0 0,0,0 -,-,- -,-,- 0,0,0 0,0,0 -,-,- -,-,- -,-,- -,-,- -,-,- -,-,- -,-,- -,-,- -,-,- 0,0,0 0,0,0 -,-,- -,-,- -,-,- 0,0,0 0,0,0 0,0,0 0,0,0 -,-,- -,-,- -,-,- -,-,- -,-,- 0,0,0 0,0,0 -,-,- -,-,- 0,0,0 0,0,0 -,-,-\n",
      "\n",
      "0,0,0 0,0,0 -,-,- -,-,- -,-,- -,-,- -,-,- -,-,- 0,0,0 0,0,0 -,-,- -,-,- -,-,- 0,0,0 0,0,0 0,0,0 -,-,- -,-,- -,-,- 0,0,0 0,0,0 -,-,- -,-,- -,-,- 0,0,0 0,0,0 0,0,0 0,0,0 -,-,- -,-,- -,-,- -,-,- 0,0,0 0,0,0 -,-,- -,-,- -,-,- 0,0,0 0,0,0 -,-,-\n",
      "\n",
      "0,0,0 0,0,0 -,-,- -,-,- -,-,- -,-,- -,-,- -,-,- 0,0,0 0,0,0 -,-,- -,-,- -,-,- -,-,- 0,0,0 0,0,0 -,-,- -,-,- -,-,- 0,0,0 0,0,0 -,-,- -,-,- -,-,- 0,0,0 0,0,0 -,-,- 0,0,0 0,0,0 -,-,- -,-,- -,-,- 0,0,0 0,0,0 0,0,0 0,0,0 0,0,0 0,0,0 0,0,0 0,0,0\n",
      "\n",
      "0,0,0 0,0,0 -,-,- -,-,- -,-,- -,-,- -,-,- -,-,- 0,0,0 0,0,0 -,-,- -,-,- -,-,- -,-,- 0,0,0 0,0,0 -,-,- -,-,- -,-,- 0,0,0 0,0,0 -,-,- -,-,- -,-,- 0,0,0 0,0,0 -,-,- -,-,- 0,0,0 0,0,0 -,-,- -,-,- -,-,- -,-,- -,-,- -,-,- -,-,- 0,0,0 0,0,0 -,-,-\n",
      "\n",
      "0,0,0 0,0,0 -,-,- -,-,- -,-,- -,-,- -,-,- -,-,- -,-,- 0,0,0 0,0,0 -,-,- -,-,- -,-,- 0,0,0 0,0,0 -,-,- -,-,- -,-,- 0,0,0 0,0,0 -,-,- -,-,- -,-,- 0,0,0 0,0,0 -,-,- -,-,- -,-,- 0,0,0 0,0,0 -,-,- -,-,- -,-,- -,-,- -,-,- -,-,- 0,0,0 0,0,0 -,-,-\n",
      "\n",
      "0,0,0 0,0,0 0,0,0 0,0,0 0,0,0 0,0,0 0,0,0 -,-,- -,-,- -,-,- 0,0,0 0,0,0 0,0,0 0,0,0 0,0,0 -,-,- -,-,- -,-,- -,-,- 0,0,0 0,0,0 -,-,- -,-,- -,-,- 0,0,0 0,0,0 -,-,- -,-,- -,-,- -,-,- 0,0,0 0,0,0 -,-,- -,-,- -,-,- -,-,- -,-,- 0,0,0 0,0,0 -,-,-\n",
      "\n"
     ]
    }
   ],
   "source": [
    "#5 character\n",
    "pixel_value = []\n",
    "#each character using 8 px\n",
    "px = 1\n",
    "for line in pixel_list_zip:\n",
    "    if px % 9 != 0:\n",
    "        pixel_value.append(line)\n",
    "    px +=1\n",
    "\n",
    "pixel_list_zip = list(zip(*pixel_value))\n",
    "\n",
    "pixel_string_list = [' '.join([','.join(map(str, pixel)) for pixel in row]) + '\\n' for row in pixel_list_zip]\n",
    "\n",
    "\n",
    "for each in pixel_string_list:\n",
    "    print(each)\n",
    "            "
   ]
  },
  {
   "cell_type": "markdown",
   "metadata": {},
   "source": [
    "CREATING TRAINING DATA FROM SAMPLE"
   ]
  },
  {
   "cell_type": "code",
   "execution_count": 516,
   "metadata": {},
   "outputs": [],
   "source": [
    "import os\n",
    "import numpy as np\n",
    "\n",
    "value_items = os.listdir('input')\n",
    "\n",
    "def read_pixel_data(file_path):\n",
    "    with open(file_path, 'r') as file:\n",
    "        #specific value based on sample data\n",
    "        lines = file.readlines()[12:22]\n",
    "        values = []\n",
    "        for line in lines:\n",
    "            values.append(line.split())\n",
    "\n",
    "        pixel_list = [[list(map(lambda x: int(1) if int(x) > 100 else 0, val.split(','))) for val in sublist[5:-11]] for sublist in values]\n",
    "        pixel_list_zip = list(zip(*pixel_list))\n",
    "    \n",
    "        return pixel_list_zip\n",
    "    \n",
    "def key_data(file_path):\n",
    "    with open(file_path, 'r') as file:\n",
    "        lines = file.readlines()\n",
    "        label = lines[0].strip().split()\n",
    "        return label\n",
    "    \n",
    "#create data training\n",
    "inputs = []\n",
    "chars = []\n",
    "\n",
    "for each_file in value_items:\n",
    "    if each_file.endswith('.txt'):\n",
    "        try:\n",
    "            label = key_data('output/output'+each_file[-6::])[0]\n",
    "            pixel_input = read_pixel_data('input/'+each_file)\n",
    "            px = 0\n",
    "            for char in label:\n",
    "                char_value = []\n",
    "                '''\n",
    "                for i in range(8):\n",
    "                    char_value.append(pixel_input[px])\n",
    "                    px += 1\n",
    "                px += 1\n",
    "\n",
    "                inputs.append(char_value)\n",
    "                chars.append(char)\n",
    "                '''\n",
    "                \n",
    "                if char not in chars:\n",
    "                    for i in range(8):\n",
    "                        char_value.append(pixel_input[px])\n",
    "                        px += 1\n",
    "                    px += 1\n",
    "                    \n",
    "                    inputs.append(char_value)\n",
    "                    chars.append(char)\n",
    "                else :\n",
    "                    px += 9  \n",
    "                \n",
    "                          \n",
    "        except:\n",
    "            continue"
   ]
  },
  {
   "cell_type": "markdown",
   "metadata": {},
   "source": [
    "TRAIN THE LINEAR MODEL"
   ]
  },
  {
   "cell_type": "code",
   "execution_count": 517,
   "metadata": {},
   "outputs": [],
   "source": [
    "from sklearn.linear_model import LogisticRegression\n",
    "\n",
    "#normalize data for training\n",
    "f_input = []\n",
    "for element in inputs:\n",
    "    ini_input = []\n",
    "    for e in element:\n",
    "        for ee in e:\n",
    "            #print(ee)\n",
    "            ini_input.extend(x for x in ee)\n",
    "    f_input.append(ini_input)\n",
    "f_inputs = np.array(f_input)\n",
    "f_chars = np.array(chars)\n",
    "\n",
    "#training the model\n",
    "model = LogisticRegression()\n",
    "model.fit(f_inputs,f_chars)\n",
    "\n",
    "coefficients = model.coef_\n",
    "intercept = model.intercept_\n",
    "\n",
    "# Save the coefficients and intercept to a text file\n",
    "np.savetxt('model_coefficients.txt', coefficients)\n",
    "np.savetxt('model_intercept.txt', intercept)"
   ]
  },
  {
   "cell_type": "code",
   "execution_count": 544,
   "metadata": {},
   "outputs": [
    {
     "data": {
      "text/plain": [
       "'EGYK4'"
      ]
     },
     "execution_count": 544,
     "metadata": {},
     "output_type": "execute_result"
    }
   ],
   "source": [
    "#model test\n",
    "\n",
    "test = []\n",
    "all_test = []\n",
    "with open('test.txt', 'r') as file:\n",
    "    #specific value based on sample data\n",
    "    lines = file.readlines()[12:22]\n",
    "    values = []\n",
    "    for line in lines:\n",
    "        values.append(line.split())\n",
    "\n",
    "    pixel_list = [[list(map(lambda x: int(1) if int(x) > 100 else 0, val.split(','))) for val in sublist[5:-11]] for sublist in values]\n",
    "    pixel_list_zip = list(zip(*pixel_list))\n",
    "\n",
    "    for px, pixel_value in enumerate(pixel_list_zip, start = 1):\n",
    "        if px %9 != 0:\n",
    "            test.append(pixel_value)\n",
    "        else:\n",
    "            all_test.append(test)\n",
    "            test=[]\n",
    "\n",
    "    all_test.append(test)\n",
    "\n",
    "f_test = []\n",
    "for element in all_test:\n",
    "    ini_input = []\n",
    "    for e in element:\n",
    "        for ee in e:\n",
    "            #print(ee)\n",
    "            ini_input.extend(x for x in ee)\n",
    "    f_test.append(ini_input)\n",
    "f_test = np.array(f_test)\n",
    "\n",
    "output= \"\"\n",
    "for test in f_test:\n",
    "    test = test.reshape(1,-1)\n",
    "    output = output + str(model.predict(test)[0])\n",
    "\n",
    "output"
   ]
  },
  {
   "cell_type": "code",
   "execution_count": null,
   "metadata": {},
   "outputs": [],
   "source": [
    "#Hackul Lank\n",
    "#model test\n",
    "test = []\n",
    "all_test = []\n",
    "\n",
    "lines = []\n",
    "rows, cols = tuple(input().split())\n",
    "for i in range(int(rows)):\n",
    "    lines.append(input())\n",
    "\n",
    "values = []\n",
    "for line in lines[11:21]:\n",
    "    values.append(line.split())\n",
    "\n",
    "pixel_list = [[list(map(lambda x: int(1) if int(x) > 100 else 0, val.split(','))) for val in sublist[5:-11]] for sublist in values]\n",
    "pixel_list_zip = list(zip(*pixel_list))\n",
    "\n",
    "for px, pixel_value in enumerate(pixel_list_zip, start=1):\n",
    "    if px %9 != 0:\n",
    "        test.append(pixel_value)\n",
    "    else:\n",
    "        all_test.append(test)\n",
    "        test=[]\n",
    "\n",
    "all_test.append(test)\n",
    "\n",
    "f_test = []\n",
    "for element in all_test:\n",
    "    ini_input = []\n",
    "    for e in element:\n",
    "        for ee in e:\n",
    "            ini_input.extend(x for x in ee)\n",
    "    f_test.append(ini_input)\n",
    "f_test = np.array(f_test)\n",
    "\n",
    "output= \"\"\n",
    "for test in f_test:\n",
    "    test = test.reshape(1, -1)\n",
    "    output = output + str(model.predict(test)[0])"
   ]
  }
 ],
 "metadata": {
  "kernelspec": {
   "display_name": "hackerlib",
   "language": "python",
   "name": "python3"
  },
  "language_info": {
   "codemirror_mode": {
    "name": "ipython",
    "version": 3
   },
   "file_extension": ".py",
   "mimetype": "text/x-python",
   "name": "python",
   "nbconvert_exporter": "python",
   "pygments_lexer": "ipython3",
   "version": "3.10.5"
  }
 },
 "nbformat": 4,
 "nbformat_minor": 2
}
