{
 "cells": [
  {
   "cell_type": "markdown",
   "metadata": {},
   "source": [
    "Paragraph to Sentences"
   ]
  },
  {
   "cell_type": "code",
   "execution_count": 8,
   "metadata": {},
   "outputs": [
    {
     "name": "stdout",
     "output_type": "stream",
     "text": [
      "halo bang!\n",
      "halo juga dek!\n",
      "kenapa nih kalo bolech tahu?\n",
      "\n"
     ]
    }
   ],
   "source": [
    "def segmentation(text):\n",
    "\n",
    "    punctuation_marks = [\"?\", \".\", \"!\"]\n",
    "    segments = []\n",
    "\n",
    "    for mark in punctuation_marks:\n",
    "        text = text.replace(mark, mark + \"\\n\")\n",
    "\n",
    "    for segment in text.split(\"\\n\"):\n",
    "        segments.append(segment.strip())\n",
    "    \n",
    "    return \"\\n\".join(segments)\n",
    "\n",
    "    \n",
    "\n",
    "input_text = input()\n",
    "\n",
    "results = segmentation(input_text)\n",
    "print(results)"
   ]
  }
 ],
 "metadata": {
  "kernelspec": {
   "display_name": "hackerlib",
   "language": "python",
   "name": "python3"
  },
  "language_info": {
   "codemirror_mode": {
    "name": "ipython",
    "version": 3
   },
   "file_extension": ".py",
   "mimetype": "text/x-python",
   "name": "python",
   "nbconvert_exporter": "python",
   "pygments_lexer": "ipython3",
   "version": "3.10.5"
  }
 },
 "nbformat": 4,
 "nbformat_minor": 2
}
