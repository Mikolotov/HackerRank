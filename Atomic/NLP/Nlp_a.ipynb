{
 "cells": [
  {
   "cell_type": "markdown",
   "metadata": {},
   "source": [
    "Paragraph to Sentences"
   ]
  },
  {
   "cell_type": "code",
   "execution_count": 8,
   "metadata": {},
   "outputs": [
    {
     "name": "stdout",
     "output_type": "stream",
     "text": [
      "halo bang!\n",
      "halo juga dek!\n",
      "kenapa nih kalo bolech tahu?\n",
      "\n"
     ]
    }
   ],
   "source": [
    "def segmentation(text):\n",
    "\n",
    "    punctuation_marks = [\"?\", \".\", \"!\"]\n",
    "    segments = []\n",
    "\n",
    "    for mark in punctuation_marks:\n",
    "        text = text.replace(mark, mark + \"\\n\")\n",
    "\n",
    "    for segment in text.split(\"\\n\"):\n",
    "        segments.append(segment.strip())\n",
    "    \n",
    "    return \"\\n\".join(segments)\n",
    "\n",
    "    \n",
    "\n",
    "input_text = input()\n",
    "\n",
    "results = segmentation(input_text)\n",
    "print(results)"
   ]
  },
  {
   "cell_type": "markdown",
   "metadata": {},
   "source": [
    "Trigram"
   ]
  },
  {
   "cell_type": "code",
   "execution_count": 2,
   "metadata": {},
   "outputs": [
    {
     "name": "stdout",
     "output_type": "stream",
     "text": [
      "would be to\n"
     ]
    }
   ],
   "source": [
    "import math\n",
    "import os\n",
    "import random\n",
    "import re\n",
    "import sys\n",
    "\n",
    "# Function to tokenize text into sentences\n",
    "def tokenize_sentences(text):\n",
    "    sentences = text.split('.')\n",
    "    #print(\"token \",sentences)\n",
    "    result = [sentence.strip() for sentence in sentences if sentence.strip()]\n",
    "    return result\n",
    "\n",
    "# Function to tokenize a sentence into words\n",
    "def tokenize_words(sentence):\n",
    "    return sentence.lower().split()\n",
    "\n",
    "# Function to find trigrams in a list of words\n",
    "def find_trigrams(words):\n",
    "    trigrams = []\n",
    "    for i in range(len(words) - 2):\n",
    "        trigrams.append(' '.join(words[i:i+3]))\n",
    "        #print(\"trigrams \", trigrams)\n",
    "    return trigrams\n",
    "\n",
    "# Function to find the most frequent trigram\n",
    "def find_most_frequent_trigram(text):\n",
    "    sentences = tokenize_sentences(text)\n",
    "    trigram_counts = {}\n",
    "    \n",
    "    for sentence in sentences:\n",
    "        words = tokenize_words(sentence)\n",
    "        if len(words) < 3:\n",
    "            continue\n",
    "        \n",
    "        trigrams = find_trigrams(words)\n",
    "        for trigram in trigrams:\n",
    "            trigram_counts[trigram] = trigram_counts.get(trigram, 0) + 1\n",
    "    \n",
    "    max_count = 0\n",
    "    most_frequent_trigram = None\n",
    "    for trigram, count in trigram_counts.items():\n",
    "        if count > max_count:\n",
    "            max_count = count\n",
    "            most_frequent_trigram = trigram\n",
    "\n",
    "    #print(\"count \", trigram_counts)\n",
    "    \n",
    "    return most_frequent_trigram\n",
    "\n",
    "\n",
    "if __name__ == '__main__':\n",
    "    #s = sys.stdin.read().strip()\n",
    "    s = input()\n",
    "    # Find and print the most frequent trigram\n",
    "    result = find_most_frequent_trigram(s)\n",
    "    print(result)\n"
   ]
  },
  {
   "cell_type": "code",
   "execution_count": 5,
   "metadata": {},
   "outputs": [
    {
     "name": "stdout",
     "output_type": "stream",
     "text": [
      "I came from the moon\n",
      "['i', 'came', 'from', 'the', 'moon']\n",
      "['i came from', 'came from the', 'from the moon'] \n",
      "\n",
      "He went to the other room\n",
      "['he', 'went', 'to', 'the', 'other', 'room']\n",
      "['he went to', 'went to the', 'to the other', 'the other room'] \n",
      "\n",
      "She went to the drawing room\n",
      "['she', 'went', 'to', 'the', 'drawing', 'room']\n",
      "['she went to', 'went to the', 'to the drawing', 'the drawing room'] \n",
      "\n",
      "{'i came from': 1, 'came from the': 1, 'from the moon': 1, 'he went to': 1, 'went to the': 2, 'to the other': 1, 'the other room': 1, 'she went to': 1, 'to the drawing': 1, 'the drawing room': 1}\n"
     ]
    }
   ],
   "source": [
    "s = \"I came from the moon. He went to the other room. She went to the drawing room.\"\n",
    "\n",
    "x = tokenize_sentences(s)\n",
    "\n",
    "trigrams_counts = {}\n",
    "\n",
    "for i in x:\n",
    "    print(i)\n",
    "    words = tokenize_words(i)\n",
    "    print(words)\n",
    "\n",
    "    if len(words) < 3:\n",
    "        continue\n",
    "\n",
    "    trigrams = find_trigrams(words)\n",
    "    for trigram in trigrams:\n",
    "        trigrams_counts[trigram] = trigrams_counts.get(trigram, 0) + 1\n",
    "    print(trigrams,\"\\n\")\n",
    "\n",
    "print(trigrams_counts)\n",
    "\n",
    "\n"
   ]
  }
 ],
 "metadata": {
  "kernelspec": {
   "display_name": "hackerlib",
   "language": "python",
   "name": "python3"
  },
  "language_info": {
   "codemirror_mode": {
    "name": "ipython",
    "version": 3
   },
   "file_extension": ".py",
   "mimetype": "text/x-python",
   "name": "python",
   "nbconvert_exporter": "python",
   "pygments_lexer": "ipython3",
   "version": "3.10.5"
  }
 },
 "nbformat": 4,
 "nbformat_minor": 2
}
